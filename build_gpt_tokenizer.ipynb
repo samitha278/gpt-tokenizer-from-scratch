{
  "nbformat": 4,
  "nbformat_minor": 0,
  "metadata": {
    "colab": {
      "provenance": [],
      "authorship_tag": "ABX9TyNHvginp4J9tmYGeJpe/Amf",
      "include_colab_link": true
    },
    "kernelspec": {
      "name": "python3",
      "display_name": "Python 3"
    },
    "language_info": {
      "name": "python"
    }
  },
  "cells": [
    {
      "cell_type": "markdown",
      "metadata": {
        "id": "view-in-github",
        "colab_type": "text"
      },
      "source": [
        "<a href=\"https://colab.research.google.com/github/samitha278/gpt-tokenizer-from-scratch/blob/main/build_gpt_tokenizer.ipynb\" target=\"_parent\"><img src=\"https://colab.research.google.com/assets/colab-badge.svg\" alt=\"Open In Colab\"/></a>"
      ]
    },
    {
      "cell_type": "markdown",
      "source": [
        "# Tokenization"
      ],
      "metadata": {
        "id": "Wgo73Wtg5YnG"
      }
    },
    {
      "cell_type": "markdown",
      "source": [
        "### unicode testing"
      ],
      "metadata": {
        "id": "5oJGeFqJVNIs"
      }
    },
    {
      "cell_type": "code",
      "execution_count": 3,
      "metadata": {
        "colab": {
          "base_uri": "https://localhost:8080/"
        },
        "id": "CwFnFXia1HSf",
        "outputId": "1dc31d74-d1fb-4df7-81ad-417fda32d8c0"
      },
      "outputs": [
        {
          "output_type": "execute_result",
          "data": {
            "text/plain": [
              "[72, 101, 108, 108, 111, 32, 87, 111, 114, 108, 100]"
            ]
          },
          "metadata": {},
          "execution_count": 3
        }
      ],
      "source": [
        "text = \"Hello World\"\n",
        "list(text.encode(\"utf-8\"))"
      ]
    },
    {
      "cell_type": "code",
      "source": [
        "print(list(text.encode(\"utf-16\")))"
      ],
      "metadata": {
        "colab": {
          "base_uri": "https://localhost:8080/"
        },
        "id": "9UvZOsuQTa8d",
        "outputId": "0e99f619-6e79-475d-dff4-0ccadae044ba"
      },
      "execution_count": 5,
      "outputs": [
        {
          "output_type": "stream",
          "name": "stdout",
          "text": [
            "[255, 254, 72, 0, 101, 0, 108, 0, 108, 0, 111, 0, 32, 0, 87, 0, 111, 0, 114, 0, 108, 0, 100, 0]\n"
          ]
        }
      ]
    },
    {
      "cell_type": "code",
      "source": [
        "print(list(text.encode(\"utf-32\")))"
      ],
      "metadata": {
        "colab": {
          "base_uri": "https://localhost:8080/"
        },
        "id": "zanPO3GWTnhd",
        "outputId": "dcf04c01-db6b-47d4-f858-aa0fb85dd29e"
      },
      "execution_count": 6,
      "outputs": [
        {
          "output_type": "stream",
          "name": "stdout",
          "text": [
            "[255, 254, 0, 0, 72, 0, 0, 0, 101, 0, 0, 0, 108, 0, 0, 0, 108, 0, 0, 0, 111, 0, 0, 0, 32, 0, 0, 0, 87, 0, 0, 0, 111, 0, 0, 0, 114, 0, 0, 0, 108, 0, 0, 0, 100, 0, 0, 0]\n"
          ]
        }
      ]
    },
    {
      "cell_type": "code",
      "source": [
        "text = '😀'\n",
        "list(text.encode(\"utf-8\"))"
      ],
      "metadata": {
        "colab": {
          "base_uri": "https://localhost:8080/"
        },
        "id": "mvzcmS_pTuX6",
        "outputId": "496701f6-c00b-4afc-c1e8-f13590f89e67"
      },
      "execution_count": 11,
      "outputs": [
        {
          "output_type": "execute_result",
          "data": {
            "text/plain": [
              "[240, 159, 152, 128]"
            ]
          },
          "metadata": {},
          "execution_count": 11
        }
      ]
    },
    {
      "cell_type": "code",
      "source": [
        "text = '😀'\n",
        "list(text.encode(\"utf-16\"))"
      ],
      "metadata": {
        "colab": {
          "base_uri": "https://localhost:8080/"
        },
        "id": "oLdzljDIUsOg",
        "outputId": "3fedd263-5aa7-428f-debc-31ba5ff13feb"
      },
      "execution_count": 10,
      "outputs": [
        {
          "output_type": "execute_result",
          "data": {
            "text/plain": [
              "[255, 254, 61, 216, 0, 222]"
            ]
          },
          "metadata": {},
          "execution_count": 10
        }
      ]
    },
    {
      "cell_type": "code",
      "source": [
        "list('h'.encode(\"utf-8\"))"
      ],
      "metadata": {
        "colab": {
          "base_uri": "https://localhost:8080/"
        },
        "id": "h7HwnAsHVAXh",
        "outputId": "e557cbb2-a9c0-481e-e9ab-a3b3028c3cc4"
      },
      "execution_count": 13,
      "outputs": [
        {
          "output_type": "execute_result",
          "data": {
            "text/plain": [
              "[104]"
            ]
          },
          "metadata": {},
          "execution_count": 13
        }
      ]
    },
    {
      "cell_type": "markdown",
      "source": [
        "## BPE"
      ],
      "metadata": {
        "id": "1aSu29YkXd4x"
      }
    },
    {
      "cell_type": "code",
      "source": [
        "text = \"The fox was very quick and nimble, jumping over logs and rocks with ease. The forest was dense with tall trees and thick undergrowth. The fox knew the forest well and quickly disappeared into the bushes. The dog searched everywhere but could not find the fox. In the meantime, the fox had found a safe hiding spot behind a large rock. The rock was covered with moss and surrounded by ferns. The fox waited patiently until the dog gave up searching and went back to sleep under the tree. When the coast was clear, the fox emerged from behind the rock and continued on its way through the forest. The forest was home to many animals - rabbits, squirrels, birds, and deer. The rabbits lived in burrows under the ground. The squirrels built their nests high up in the trees. The birds sang beautiful songs from the branches. The deer grazed peacefully in the clearings. As the fox walked deeper into the forest, it encountered a stream. The stream was crystal clear and flowed gently over smooth stones. The fox was thirsty and stopped to drink some water. The water was cool and refreshing. Fish swam in the stream - trout and minnows darting between the rocks. The sun was beginning to set, casting long shadows through the trees. The fox decided to find a place to rest for the night. It found a cozy den under some roots near the stream. The den was dry and warm, perfect for sleeping. The fox curled up and soon fell asleep, dreaming of its adventures in the forest. Meanwhile, back at the tree, the dog was still sleeping peacefully. The dog dreamed of chasing the fox but never catching it. In the morning, the dog would wake up and remember the exciting chase from the day before. The dog enjoyed these games with the fox, even though it never caught its quick opponent. The next morning, both the fox and the dog woke up refreshed. The fox stretched and yawned, then went to the stream for a morning drink. The dog also woke up, stretched, and went looking for breakfast. Perhaps today there would be another exciting chase through the forest. El zorro rápido saltó sobre el perro perezoso. 🦊 The fox was indeed very quick! Der schnelle Fuchs sprang über den faulen Hund. 狐狸很聪明，它知道如何逃跑。Le renard intelligent savait comment s'échapper du chien. 🐕 \\\"¡Hola!\\\" said the fox to the rabbit. \\\"Bonjour!\\\" replied the rabbit in French. \\\"Guten Tag!\\\" shouted the squirrel from above. The multilingual forest was full of diverse conversations. \\\"你好!\\\" called out the wise old owl in Chinese. \\\"こんにちは!\\\" chirped the small bird in Japanese. The programming world is fascinating! 💻 Python is a popular language: print(\\\"Hello World!\\\"). JavaScript is everywhere: console.log(\\\"Web development!\\\"). The developers were coding: function test() { return \\\"amazing\\\"; }. Machine learning models like transformers use attention mechanisms. Neural networks process information through layers and layers of computations. Mathematics is beautiful: π ≈ 3.14159, e ≈ 2.71828, and √2 ≈ 1.41421. The equation E=mc² revolutionized physics. ∑(i=1 to n) i = n(n+1)/2 is a famous formula. Calculus involves derivatives: f'(x) = lim(h→0) [f(x+h) - f(x)]/h. Technology advances rapidly 🚀: artificial intelligence, machine learning, deep learning, natural language processing, computer vision, robotics, quantum computing, blockchain, cryptocurrency, cloud computing, edge computing, Internet of Things (IoT), augmented reality (AR), virtual reality (VR). Social media expressions are common nowadays: LOL 😂, ROFL 🤣, OMG 😱, WTF 🤔, YOLO 🎉, FOMO 😰, TBH (to be honest), IMO (in my opinion), IMHO (in my humble opinion), BTW (by the way), FYI (for your information), ASAP (as soon as possible). Food from around the world 🍕🍜🍛🥘🌮🍣🥟🍝: pizza from Italy, ramen from Japan, curry from India, tacos from Mexico, sushi from Japan, dumplings from China, pasta from Italy. Cooking verbs repeat: cook, cooking, cooked, bake, baking, baked, fry, frying, fried, boil, boiling, boiled. Weather patterns change frequently ☀️🌧️❄️🌪️: sunny days, rainy afternoons, snowy winters, stormy nights. Temperature variations: hot, hotter, hottest, cold, colder, coldest, warm, warmer, warmest, cool, cooler, coolest. Transportation methods 🚗🚌🚆🛩️🚁: driving cars, riding buses, taking trains, flying airplanes, helicopter rides. Travel destinations: Paris, London, Tokyo, New York, Sydney, Mumbai, Cairo, Rio de Janeiro, Moscow, Beijing. Emotional expressions vary 😊😢😠😴😍🤯: happiness brings joy, sadness brings tears, anger brings frustration, tiredness brings sleep, love brings passion, surprise brings amazement. Scientific fields interconnect: biology studies life, chemistry studies matter, physics studies motion and energy, mathematics provides the foundation, computer science creates algorithms, psychology understands behavior, sociology analyzes society. Time expressions repeat constantly: today, yesterday, tomorrow, morning, afternoon, evening, night, Monday, Tuesday, Wednesday, Thursday, Friday, Saturday, Sunday, January, February, March, April, May, June, July, August, September, October, November, December. Colors appear everywhere 🎨: red, blue, green, yellow, purple, orange, pink, black, white, brown, gray, violet, indigo, turquoise, magenta, cyan, maroon, navy, olive, silver, gold. Numbers and counting 🔢: one, two, three, four, five, six, seven, eight, nine, ten, eleven, twelve, thirteen, fourteen, fifteen, sixteen, seventeen, eighteen, nineteen, twenty, thirty, forty, fifty, sixty, seventy, eighty, ninety, hundred, thousand, million, billion. This multilingual, emoji-rich text with repeated patterns, programming code, mathematical expressions, and diverse vocabulary provides an excellent dataset for BPE tokenization testing. The algorithm will identify frequent subword patterns across different languages and content types! 🎯\""
      ],
      "metadata": {
        "id": "djyVjan0VGcl"
      },
      "execution_count": 23,
      "outputs": []
    },
    {
      "cell_type": "code",
      "source": [
        "tokens = list(text.encode(\"utf-8\"))\n",
        "print(tokens[:100])"
      ],
      "metadata": {
        "colab": {
          "base_uri": "https://localhost:8080/"
        },
        "id": "MlseGtPpX2-C",
        "outputId": "514418b8-09b0-4bd7-8ad8-d0dd9238bfb0"
      },
      "execution_count": 35,
      "outputs": [
        {
          "output_type": "stream",
          "name": "stdout",
          "text": [
            "[84, 104, 101, 32, 102, 111, 120, 32, 119, 97, 115, 32, 118, 101, 114, 121, 32, 113, 117, 105, 99, 107, 32, 97, 110, 100, 32, 110, 105, 109, 98, 108, 101, 44, 32, 106, 117, 109, 112, 105, 110, 103, 32, 111, 118, 101, 114, 32, 108, 111, 103, 115, 32, 97, 110, 100, 32, 114, 111, 99, 107, 115, 32, 119, 105, 116, 104, 32, 101, 97, 115, 101, 46, 32, 84, 104, 101, 32, 102, 111, 114, 101, 115, 116, 32, 119, 97, 115, 32, 100, 101, 110, 115, 101, 32, 119, 105, 116, 104, 32]\n"
          ]
        }
      ]
    },
    {
      "cell_type": "code",
      "source": [
        "print(len(text))\n",
        "print(len(tokens))"
      ],
      "metadata": {
        "colab": {
          "base_uri": "https://localhost:8080/"
        },
        "id": "cHF5AWj0X3tD",
        "outputId": "1ab5406e-9073-4b5a-ec11-506cb5648940"
      },
      "execution_count": 25,
      "outputs": [
        {
          "output_type": "stream",
          "name": "stdout",
          "text": [
            "5788\n",
            "5965\n"
          ]
        }
      ]
    },
    {
      "cell_type": "code",
      "source": [
        "def get_counts(tokens):\n",
        "  counts = {}\n",
        "  for p in zip(tokens,tokens[1:]):\n",
        "    counts[p] = counts.get(p,0)+1\n",
        "  return counts"
      ],
      "metadata": {
        "id": "N-EfSerlY_OP"
      },
      "execution_count": 26,
      "outputs": []
    },
    {
      "cell_type": "code",
      "source": [
        "stats = get_counts(tokens)\n",
        "#print(stats)"
      ],
      "metadata": {
        "id": "-h6yTgStZ_Ei"
      },
      "execution_count": 37,
      "outputs": []
    },
    {
      "cell_type": "code",
      "source": [
        "#sorted(stats.items(), key=lambda x: x[1], reverse=True)"
      ],
      "metadata": {
        "id": "XALjm-I8aMQ2"
      },
      "execution_count": 38,
      "outputs": []
    },
    {
      "cell_type": "code",
      "source": [
        "chr(44),chr(32)"
      ],
      "metadata": {
        "colab": {
          "base_uri": "https://localhost:8080/"
        },
        "id": "ezSyAZJtatGi",
        "outputId": "6bc37537-088c-41fa-ca15-a21bf9611393"
      },
      "execution_count": 34,
      "outputs": [
        {
          "output_type": "execute_result",
          "data": {
            "text/plain": [
              "(',', ' ')"
            ]
          },
          "metadata": {},
          "execution_count": 34
        }
      ]
    },
    {
      "cell_type": "code",
      "source": [
        "max_pair = max(stats,key=stats.get)\n",
        "max_pair"
      ],
      "metadata": {
        "colab": {
          "base_uri": "https://localhost:8080/"
        },
        "id": "CUZkLBNpbcP7",
        "outputId": "871f3dbb-426e-4de0-fe4f-b03a765aaf14"
      },
      "execution_count": 40,
      "outputs": [
        {
          "output_type": "execute_result",
          "data": {
            "text/plain": [
              "(44, 32)"
            ]
          },
          "metadata": {},
          "execution_count": 40
        }
      ]
    },
    {
      "cell_type": "code",
      "source": [
        "def merge_pair(tokens,pair,idx):\n",
        "\n",
        "\n",
        "  out = []\n",
        "\n",
        "  n = len(tokens)\n",
        "  i = 0\n",
        "  while i<n:\n",
        "    p1 = tokens[i]\n",
        "    if i<n-1:\n",
        "      p2 = tokens[i+1]\n",
        "\n",
        "    if (p1,p2) == pair:\n",
        "      out.append(idx)\n",
        "      i+=2\n",
        "\n",
        "    else:\n",
        "      out.append(p1)\n",
        "      i+=1\n",
        "\n",
        "\n",
        "  return out\n"
      ],
      "metadata": {
        "id": "1eEza8tZdH4Z"
      },
      "execution_count": 54,
      "outputs": []
    },
    {
      "cell_type": "code",
      "source": [
        "merge_pair([1,2,3,4,5,6],(2,3),8)"
      ],
      "metadata": {
        "colab": {
          "base_uri": "https://localhost:8080/"
        },
        "id": "CYTtPKMb0RC-",
        "outputId": "3834817e-8d47-4219-8c1d-d5c07eca3219"
      },
      "execution_count": 55,
      "outputs": [
        {
          "output_type": "execute_result",
          "data": {
            "text/plain": [
              "[1, 8, 4, 5, 6]"
            ]
          },
          "metadata": {},
          "execution_count": 55
        }
      ]
    },
    {
      "cell_type": "code",
      "source": [
        "new_tokens = merge_pair(tokens,max_pair,max(tokens)+1)\n",
        "print(len(new_tokens))"
      ],
      "metadata": {
        "colab": {
          "base_uri": "https://localhost:8080/"
        },
        "id": "x7YpEnpD0Qcm",
        "outputId": "e543a57b-798f-416d-94f9-dc37ec657a16"
      },
      "execution_count": 58,
      "outputs": [
        {
          "output_type": "stream",
          "name": "stdout",
          "text": [
            "5787\n"
          ]
        }
      ]
    },
    {
      "cell_type": "code",
      "source": [
        "new_stats = get_counts(new_tokens)\n",
        "max_pair = max(new_stats,key=new_stats.get)\n",
        "new_tokens = merge_pair(new_tokens,max_pair,max(new_tokens)+1)\n",
        "print(len(new_tokens))"
      ],
      "metadata": {
        "colab": {
          "base_uri": "https://localhost:8080/"
        },
        "id": "8py8D2Q81y2F",
        "outputId": "cfdff04c-6783-4ff7-d6f9-33464f255399"
      },
      "execution_count": 60,
      "outputs": [
        {
          "output_type": "stream",
          "name": "stdout",
          "text": [
            "5672\n"
          ]
        }
      ]
    },
    {
      "cell_type": "markdown",
      "source": [
        "### BPE Algo"
      ],
      "metadata": {
        "id": "UteQO0Xn3ux9"
      }
    },
    {
      "cell_type": "code",
      "source": [
        "def bpe(tokens):\n",
        "\n",
        "\n",
        "  while True:\n",
        "\n",
        "    stats = get_counts(tokens)\n",
        "    max_pair = max(stats,key=stats.get)\n",
        "\n",
        "    if stats[max_pair]==1:\n",
        "      return tokens\n",
        "    tokens = merge_pair(tokens,max_pair,max(tokens)+1)\n",
        "\n"
      ],
      "metadata": {
        "id": "ge5--7KR3I5b"
      },
      "execution_count": 61,
      "outputs": []
    },
    {
      "cell_type": "code",
      "source": [
        "tokens = list(text.encode(\"utf-8\"))\n",
        "len(tokens)"
      ],
      "metadata": {
        "colab": {
          "base_uri": "https://localhost:8080/"
        },
        "id": "55dMCyNXA1XG",
        "outputId": "b03716a9-3417-42ba-99ee-f1fe60978101"
      },
      "execution_count": 62,
      "outputs": [
        {
          "output_type": "execute_result",
          "data": {
            "text/plain": [
              "5965"
            ]
          },
          "metadata": {},
          "execution_count": 62
        }
      ]
    },
    {
      "cell_type": "code",
      "source": [
        "new_tokens = bpe(tokens)\n",
        "len(new_tokens)"
      ],
      "metadata": {
        "colab": {
          "base_uri": "https://localhost:8080/"
        },
        "id": "y7yoSRCsBDTi",
        "outputId": "ac9b137c-796c-4055-d24b-ca17129d53da"
      },
      "execution_count": 63,
      "outputs": [
        {
          "output_type": "execute_result",
          "data": {
            "text/plain": [
              "2065"
            ]
          },
          "metadata": {},
          "execution_count": 63
        }
      ]
    },
    {
      "cell_type": "code",
      "source": [],
      "metadata": {
        "id": "hMxWGymDBGe8"
      },
      "execution_count": null,
      "outputs": []
    }
  ]
}