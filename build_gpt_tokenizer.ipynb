{
  "nbformat": 4,
  "nbformat_minor": 0,
  "metadata": {
    "colab": {
      "provenance": [],
      "authorship_tag": "ABX9TyNWT1ctjOrU0zMiikTsA3SK",
      "include_colab_link": true
    },
    "kernelspec": {
      "name": "python3",
      "display_name": "Python 3"
    },
    "language_info": {
      "name": "python"
    }
  },
  "cells": [
    {
      "cell_type": "markdown",
      "metadata": {
        "id": "view-in-github",
        "colab_type": "text"
      },
      "source": [
        "<a href=\"https://colab.research.google.com/github/samitha278/gpt-tokenizer-from-scratch/blob/main/build_gpt_tokenizer.ipynb\" target=\"_parent\"><img src=\"https://colab.research.google.com/assets/colab-badge.svg\" alt=\"Open In Colab\"/></a>"
      ]
    },
    {
      "cell_type": "markdown",
      "source": [
        "# Tokenization"
      ],
      "metadata": {
        "id": "Wgo73Wtg5YnG"
      }
    },
    {
      "cell_type": "code",
      "source": [
        "import torch\n",
        "import regex as re"
      ],
      "metadata": {
        "id": "ClBnQw3K2da5"
      },
      "execution_count": 2,
      "outputs": []
    },
    {
      "cell_type": "markdown",
      "source": [
        "### unicode testing"
      ],
      "metadata": {
        "id": "5oJGeFqJVNIs"
      }
    },
    {
      "cell_type": "code",
      "execution_count": 3,
      "metadata": {
        "colab": {
          "base_uri": "https://localhost:8080/"
        },
        "id": "CwFnFXia1HSf",
        "outputId": "cb1aeca2-b095-4f60-d23c-d8042ae7fd45"
      },
      "outputs": [
        {
          "output_type": "execute_result",
          "data": {
            "text/plain": [
              "[72, 101, 108, 108, 111, 32, 87, 111, 114, 108, 100]"
            ]
          },
          "metadata": {},
          "execution_count": 3
        }
      ],
      "source": [
        "text = \"Hello World\"\n",
        "list(text.encode(\"utf-8\"))"
      ]
    },
    {
      "cell_type": "code",
      "source": [
        "print(list(text.encode(\"utf-16\")))"
      ],
      "metadata": {
        "colab": {
          "base_uri": "https://localhost:8080/"
        },
        "id": "9UvZOsuQTa8d",
        "outputId": "f74524f3-915d-4602-dbd4-93189698e9c5"
      },
      "execution_count": 4,
      "outputs": [
        {
          "output_type": "stream",
          "name": "stdout",
          "text": [
            "[255, 254, 72, 0, 101, 0, 108, 0, 108, 0, 111, 0, 32, 0, 87, 0, 111, 0, 114, 0, 108, 0, 100, 0]\n"
          ]
        }
      ]
    },
    {
      "cell_type": "code",
      "source": [
        "print(list(text.encode(\"utf-32\")))"
      ],
      "metadata": {
        "colab": {
          "base_uri": "https://localhost:8080/"
        },
        "id": "zanPO3GWTnhd",
        "outputId": "c5e03908-4787-44e8-b87d-18dcca9a2618"
      },
      "execution_count": 5,
      "outputs": [
        {
          "output_type": "stream",
          "name": "stdout",
          "text": [
            "[255, 254, 0, 0, 72, 0, 0, 0, 101, 0, 0, 0, 108, 0, 0, 0, 108, 0, 0, 0, 111, 0, 0, 0, 32, 0, 0, 0, 87, 0, 0, 0, 111, 0, 0, 0, 114, 0, 0, 0, 108, 0, 0, 0, 100, 0, 0, 0]\n"
          ]
        }
      ]
    },
    {
      "cell_type": "code",
      "source": [
        "text = '😀'\n",
        "list(text.encode(\"utf-8\"))"
      ],
      "metadata": {
        "colab": {
          "base_uri": "https://localhost:8080/"
        },
        "id": "mvzcmS_pTuX6",
        "outputId": "30fac240-520b-41e0-cf84-83d16e2a6e0e"
      },
      "execution_count": 6,
      "outputs": [
        {
          "output_type": "execute_result",
          "data": {
            "text/plain": [
              "[240, 159, 152, 128]"
            ]
          },
          "metadata": {},
          "execution_count": 6
        }
      ]
    },
    {
      "cell_type": "code",
      "source": [
        "text = '😀'\n",
        "list(text.encode(\"utf-16\"))"
      ],
      "metadata": {
        "colab": {
          "base_uri": "https://localhost:8080/"
        },
        "id": "oLdzljDIUsOg",
        "outputId": "59f267f2-5c8e-4d57-f0c8-891b7c26f760"
      },
      "execution_count": 7,
      "outputs": [
        {
          "output_type": "execute_result",
          "data": {
            "text/plain": [
              "[255, 254, 61, 216, 0, 222]"
            ]
          },
          "metadata": {},
          "execution_count": 7
        }
      ]
    },
    {
      "cell_type": "code",
      "source": [
        "list('h'.encode(\"utf-8\"))"
      ],
      "metadata": {
        "colab": {
          "base_uri": "https://localhost:8080/"
        },
        "id": "h7HwnAsHVAXh",
        "outputId": "db6d573d-2456-4061-d9ae-7d1fc3d658d8"
      },
      "execution_count": 8,
      "outputs": [
        {
          "output_type": "execute_result",
          "data": {
            "text/plain": [
              "[104]"
            ]
          },
          "metadata": {},
          "execution_count": 8
        }
      ]
    },
    {
      "cell_type": "markdown",
      "source": [
        "## BPE"
      ],
      "metadata": {
        "id": "1aSu29YkXd4x"
      }
    },
    {
      "cell_type": "code",
      "source": [
        "text = \"The fox was very quick and nimble, jumping over logs and rocks with ease. The forest was dense with tall trees and thick undergrowth. The fox knew the forest well and quickly disappeared into the bushes. The dog searched everywhere but could not find the fox. In the meantime, the fox had found a safe hiding spot behind a large rock. The rock was covered with moss and surrounded by ferns. The fox waited patiently until the dog gave up searching and went back to sleep under the tree. When the coast was clear, the fox emerged from behind the rock and continued on its way through the forest. The forest was home to many animals - rabbits, squirrels, birds, and deer. The rabbits lived in burrows under the ground. The squirrels built their nests high up in the trees. The birds sang beautiful songs from the branches. The deer grazed peacefully in the clearings. As the fox walked deeper into the forest, it encountered a stream. The stream was crystal clear and flowed gently over smooth stones. The fox was thirsty and stopped to drink some water. The water was cool and refreshing. Fish swam in the stream - trout and minnows darting between the rocks. The sun was beginning to set, casting long shadows through the trees. The fox decided to find a place to rest for the night. It found a cozy den under some roots near the stream. The den was dry and warm, perfect for sleeping. The fox curled up and soon fell asleep, dreaming of its adventures in the forest. Meanwhile, back at the tree, the dog was still sleeping peacefully. The dog dreamed of chasing the fox but never catching it. In the morning, the dog would wake up and remember the exciting chase from the day before. The dog enjoyed these games with the fox, even though it never caught its quick opponent. The next morning, both the fox and the dog woke up refreshed. The fox stretched and yawned, then went to the stream for a morning drink. The dog also woke up, stretched, and went looking for breakfast. Perhaps today there would be another exciting chase through the forest. El zorro rápido saltó sobre el perro perezoso. 🦊 The fox was indeed very quick! Der schnelle Fuchs sprang über den faulen Hund. 狐狸很聪明，它知道如何逃跑。Le renard intelligent savait comment s'échapper du chien. 🐕 \\\"¡Hola!\\\" said the fox to the rabbit. \\\"Bonjour!\\\" replied the rabbit in French. \\\"Guten Tag!\\\" shouted the squirrel from above. The multilingual forest was full of diverse conversations. \\\"你好!\\\" called out the wise old owl in Chinese. \\\"こんにちは!\\\" chirped the small bird in Japanese. The programming world is fascinating! 💻 Python is a popular language: print(\\\"Hello World!\\\"). JavaScript is everywhere: console.log(\\\"Web development!\\\"). The developers were coding: function test() { return \\\"amazing\\\"; }. Machine learning models like transformers use attention mechanisms. Neural networks process information through layers and layers of computations. Mathematics is beautiful: π ≈ 3.14159, e ≈ 2.71828, and √2 ≈ 1.41421. The equation E=mc² revolutionized physics. ∑(i=1 to n) i = n(n+1)/2 is a famous formula. Calculus involves derivatives: f'(x) = lim(h→0) [f(x+h) - f(x)]/h. Technology advances rapidly 🚀: artificial intelligence, machine learning, deep learning, natural language processing, computer vision, robotics, quantum computing, blockchain, cryptocurrency, cloud computing, edge computing, Internet of Things (IoT), augmented reality (AR), virtual reality (VR). Social media expressions are common nowadays: LOL 😂, ROFL 🤣, OMG 😱, WTF 🤔, YOLO 🎉, FOMO 😰, TBH (to be honest), IMO (in my opinion), IMHO (in my humble opinion), BTW (by the way), FYI (for your information), ASAP (as soon as possible). Food from around the world 🍕🍜🍛🥘🌮🍣🥟🍝: pizza from Italy, ramen from Japan, curry from India, tacos from Mexico, sushi from Japan, dumplings from China, pasta from Italy. Cooking verbs repeat: cook, cooking, cooked, bake, baking, baked, fry, frying, fried, boil, boiling, boiled. Weather patterns change frequently ☀️🌧️❄️🌪️: sunny days, rainy afternoons, snowy winters, stormy nights. Temperature variations: hot, hotter, hottest, cold, colder, coldest, warm, warmer, warmest, cool, cooler, coolest. Transportation methods 🚗🚌🚆🛩️🚁: driving cars, riding buses, taking trains, flying airplanes, helicopter rides. Travel destinations: Paris, London, Tokyo, New York, Sydney, Mumbai, Cairo, Rio de Janeiro, Moscow, Beijing. Emotional expressions vary 😊😢😠😴😍🤯: happiness brings joy, sadness brings tears, anger brings frustration, tiredness brings sleep, love brings passion, surprise brings amazement. Scientific fields interconnect: biology studies life, chemistry studies matter, physics studies motion and energy, mathematics provides the foundation, computer science creates algorithms, psychology understands behavior, sociology analyzes society. Time expressions repeat constantly: today, yesterday, tomorrow, morning, afternoon, evening, night, Monday, Tuesday, Wednesday, Thursday, Friday, Saturday, Sunday, January, February, March, April, May, June, July, August, September, October, November, December. Colors appear everywhere 🎨: red, blue, green, yellow, purple, orange, pink, black, white, brown, gray, violet, indigo, turquoise, magenta, cyan, maroon, navy, olive, silver, gold. Numbers and counting 🔢: one, two, three, four, five, six, seven, eight, nine, ten, eleven, twelve, thirteen, fourteen, fifteen, sixteen, seventeen, eighteen, nineteen, twenty, thirty, forty, fifty, sixty, seventy, eighty, ninety, hundred, thousand, million, billion. This multilingual, emoji-rich text with repeated patterns, programming code, mathematical expressions, and diverse vocabulary provides an excellent dataset for BPE tokenization testing. The algorithm will identify frequent subword patterns across different languages and content types! 🎯\""
      ],
      "metadata": {
        "id": "djyVjan0VGcl"
      },
      "execution_count": 9,
      "outputs": []
    },
    {
      "cell_type": "code",
      "source": [
        "tokens = list(text.encode(\"utf-8\"))\n",
        "print(tokens[:100])"
      ],
      "metadata": {
        "colab": {
          "base_uri": "https://localhost:8080/"
        },
        "id": "MlseGtPpX2-C",
        "outputId": "52a02fba-2a57-47cc-a899-63ace4b6cdda"
      },
      "execution_count": 10,
      "outputs": [
        {
          "output_type": "stream",
          "name": "stdout",
          "text": [
            "[84, 104, 101, 32, 102, 111, 120, 32, 119, 97, 115, 32, 118, 101, 114, 121, 32, 113, 117, 105, 99, 107, 32, 97, 110, 100, 32, 110, 105, 109, 98, 108, 101, 44, 32, 106, 117, 109, 112, 105, 110, 103, 32, 111, 118, 101, 114, 32, 108, 111, 103, 115, 32, 97, 110, 100, 32, 114, 111, 99, 107, 115, 32, 119, 105, 116, 104, 32, 101, 97, 115, 101, 46, 32, 84, 104, 101, 32, 102, 111, 114, 101, 115, 116, 32, 119, 97, 115, 32, 100, 101, 110, 115, 101, 32, 119, 105, 116, 104, 32]\n"
          ]
        }
      ]
    },
    {
      "cell_type": "code",
      "source": [
        "print(len(text))\n",
        "print(len(tokens))"
      ],
      "metadata": {
        "colab": {
          "base_uri": "https://localhost:8080/"
        },
        "id": "cHF5AWj0X3tD",
        "outputId": "ce2e9996-e985-4ca5-fed2-c945e7befdce"
      },
      "execution_count": 11,
      "outputs": [
        {
          "output_type": "stream",
          "name": "stdout",
          "text": [
            "5788\n",
            "5965\n"
          ]
        }
      ]
    },
    {
      "cell_type": "code",
      "source": [
        "def get_counts(tokens):\n",
        "  counts = {}\n",
        "  for p in zip(tokens,tokens[1:]):\n",
        "    counts[p] = counts.get(p,0)+1\n",
        "  return counts"
      ],
      "metadata": {
        "id": "N-EfSerlY_OP"
      },
      "execution_count": 12,
      "outputs": []
    },
    {
      "cell_type": "code",
      "source": [
        "stats = get_counts(tokens)\n",
        "#print(stats)"
      ],
      "metadata": {
        "id": "-h6yTgStZ_Ei"
      },
      "execution_count": 13,
      "outputs": []
    },
    {
      "cell_type": "code",
      "source": [
        "#sorted(stats.items(), key=lambda x: x[1], reverse=True)"
      ],
      "metadata": {
        "id": "XALjm-I8aMQ2"
      },
      "execution_count": 14,
      "outputs": []
    },
    {
      "cell_type": "code",
      "source": [
        "chr(44),chr(32)"
      ],
      "metadata": {
        "colab": {
          "base_uri": "https://localhost:8080/"
        },
        "id": "ezSyAZJtatGi",
        "outputId": "038a73a7-bd59-4036-ea20-7e193974217a"
      },
      "execution_count": 15,
      "outputs": [
        {
          "output_type": "execute_result",
          "data": {
            "text/plain": [
              "(',', ' ')"
            ]
          },
          "metadata": {},
          "execution_count": 15
        }
      ]
    },
    {
      "cell_type": "code",
      "source": [
        "max_pair = max(stats,key=stats.get)\n",
        "max_pair"
      ],
      "metadata": {
        "colab": {
          "base_uri": "https://localhost:8080/"
        },
        "id": "CUZkLBNpbcP7",
        "outputId": "6f0c97c1-a9e8-4d7c-b601-06e3b62eb79a"
      },
      "execution_count": 16,
      "outputs": [
        {
          "output_type": "execute_result",
          "data": {
            "text/plain": [
              "(44, 32)"
            ]
          },
          "metadata": {},
          "execution_count": 16
        }
      ]
    },
    {
      "cell_type": "code",
      "source": [
        "def merge_pair(tokens,pair,idx):\n",
        "\n",
        "\n",
        "  out = []\n",
        "\n",
        "  n = len(tokens)\n",
        "  i = 0\n",
        "  while i<n:\n",
        "    p1 = tokens[i]\n",
        "    if i<n-1:\n",
        "      p2 = tokens[i+1]\n",
        "\n",
        "    if (p1,p2) == pair:\n",
        "      out.append(idx)\n",
        "      i+=2\n",
        "\n",
        "    else:\n",
        "      out.append(p1)\n",
        "      i+=1\n",
        "\n",
        "\n",
        "  return out\n"
      ],
      "metadata": {
        "id": "1eEza8tZdH4Z"
      },
      "execution_count": 17,
      "outputs": []
    },
    {
      "cell_type": "code",
      "source": [
        "merge_pair([1,2,3,4,5,6],(2,3),8)"
      ],
      "metadata": {
        "colab": {
          "base_uri": "https://localhost:8080/"
        },
        "id": "CYTtPKMb0RC-",
        "outputId": "aa822efe-f014-4983-a3ad-a3a3ac5425b7"
      },
      "execution_count": 18,
      "outputs": [
        {
          "output_type": "execute_result",
          "data": {
            "text/plain": [
              "[1, 8, 4, 5, 6]"
            ]
          },
          "metadata": {},
          "execution_count": 18
        }
      ]
    },
    {
      "cell_type": "code",
      "source": [
        "new_tokens = merge_pair(tokens,max_pair,max(tokens)+1)\n",
        "print(len(new_tokens))"
      ],
      "metadata": {
        "colab": {
          "base_uri": "https://localhost:8080/"
        },
        "id": "x7YpEnpD0Qcm",
        "outputId": "c759b3c7-8761-40df-8fa4-c58814d3b2b4"
      },
      "execution_count": 19,
      "outputs": [
        {
          "output_type": "stream",
          "name": "stdout",
          "text": [
            "5787\n"
          ]
        }
      ]
    },
    {
      "cell_type": "code",
      "source": [
        "new_stats = get_counts(new_tokens)\n",
        "max_pair = max(new_stats,key=new_stats.get)\n",
        "new_tokens = merge_pair(new_tokens,max_pair,max(new_tokens)+1)\n",
        "print(len(new_tokens))"
      ],
      "metadata": {
        "colab": {
          "base_uri": "https://localhost:8080/"
        },
        "id": "8py8D2Q81y2F",
        "outputId": "a7856b1e-ad16-4431-8f24-4d990a3d4298"
      },
      "execution_count": 20,
      "outputs": [
        {
          "output_type": "stream",
          "name": "stdout",
          "text": [
            "5672\n"
          ]
        }
      ]
    },
    {
      "cell_type": "markdown",
      "source": [
        "### BPE Algo"
      ],
      "metadata": {
        "id": "UteQO0Xn3ux9"
      }
    },
    {
      "cell_type": "code",
      "source": [
        "def bpe(tokens):\n",
        "\n",
        "  i = 0\n",
        "  while True:\n",
        "\n",
        "    stats = get_counts(tokens)\n",
        "    max_pair = max(stats,key=stats.get)\n",
        "\n",
        "    if stats[max_pair]==1:\n",
        "      return tokens\n",
        "    tokens = merge_pair(tokens,max_pair,256+i)\n",
        "\n",
        "    i+=1\n",
        "\n",
        "\n"
      ],
      "metadata": {
        "id": "ge5--7KR3I5b"
      },
      "execution_count": 21,
      "outputs": []
    },
    {
      "cell_type": "code",
      "source": [
        "tokens = list(text.encode(\"utf-8\"))\n",
        "len(tokens),max(tokens)"
      ],
      "metadata": {
        "colab": {
          "base_uri": "https://localhost:8080/"
        },
        "id": "55dMCyNXA1XG",
        "outputId": "e20e3798-6dbf-47d2-cca4-483ab26b0623"
      },
      "execution_count": 22,
      "outputs": [
        {
          "output_type": "execute_result",
          "data": {
            "text/plain": [
              "(5965, 240)"
            ]
          },
          "metadata": {},
          "execution_count": 22
        }
      ]
    },
    {
      "cell_type": "code",
      "source": [
        "new_tokens = bpe(tokens)\n",
        "len(new_tokens)"
      ],
      "metadata": {
        "colab": {
          "base_uri": "https://localhost:8080/"
        },
        "id": "y7yoSRCsBDTi",
        "outputId": "13224cb5-8cbc-48cf-eed6-3fb4cc2268d2"
      },
      "execution_count": 23,
      "outputs": [
        {
          "output_type": "execute_result",
          "data": {
            "text/plain": [
              "2065"
            ]
          },
          "metadata": {},
          "execution_count": 23
        }
      ]
    },
    {
      "cell_type": "code",
      "source": [
        "max(new_tokens)"
      ],
      "metadata": {
        "colab": {
          "base_uri": "https://localhost:8080/"
        },
        "id": "hMxWGymDBGe8",
        "outputId": "acc2e576-86e0-4a33-a8b2-ceaf2ab8fab0"
      },
      "execution_count": 24,
      "outputs": [
        {
          "output_type": "execute_result",
          "data": {
            "text/plain": [
              "822"
            ]
          },
          "metadata": {},
          "execution_count": 24
        }
      ]
    },
    {
      "cell_type": "markdown",
      "source": [
        "### All in one"
      ],
      "metadata": {
        "id": "WjWToJKxD6aj"
      }
    },
    {
      "cell_type": "code",
      "source": [
        "def get_counts(tokens):\n",
        "  counts = {}\n",
        "  for p in zip(tokens,tokens[1:]):\n",
        "    counts[p] = counts.get(p,0)+1\n",
        "  return counts"
      ],
      "metadata": {
        "id": "DkA5kImZUvsr"
      },
      "execution_count": 25,
      "outputs": []
    },
    {
      "cell_type": "code",
      "source": [
        "def merge_pair(tokens,pair,idx):\n",
        "\n",
        "  out = []\n",
        "  n = len(tokens)\n",
        "  i = 0\n",
        "  while i<n:\n",
        "    p1 = tokens[i]\n",
        "    if i<n-1:\n",
        "      p2 = tokens[i+1]\n",
        "\n",
        "    if (p1,p2) == pair:\n",
        "      out.append(idx)\n",
        "      i+=2\n",
        "    else:\n",
        "      out.append(p1)\n",
        "      i+=1\n",
        "  return out"
      ],
      "metadata": {
        "id": "vxbuW50LUzpd"
      },
      "execution_count": 26,
      "outputs": []
    },
    {
      "cell_type": "code",
      "source": [
        "def merge_pair(tokens,pair,idx):\n",
        "\n",
        "  out = []\n",
        "  n = len(tokens)\n",
        "  i = 0\n",
        "  while i<n:\n",
        "    p1 = tokens[i]\n",
        "    if i<n-1:\n",
        "      p2 = tokens[i+1]\n",
        "\n",
        "    if (p1,p2) == pair:\n",
        "      out.append(idx)\n",
        "      i+=2\n",
        "    else:\n",
        "      out.append(p1)\n",
        "      i+=1\n",
        "  return out"
      ],
      "metadata": {
        "id": "NrImIXWQ-Pqd"
      },
      "execution_count": 27,
      "outputs": []
    },
    {
      "cell_type": "code",
      "source": [
        "def bpe(tokens,num_merges):\n",
        "  merges = {}\n",
        "\n",
        "  for i in range(num_merges):\n",
        "\n",
        "    stats = get_counts(tokens)\n",
        "    max_pair = max(stats,key=stats.get)\n",
        "    tokens = merge_pair(tokens,max_pair,256+i)\n",
        "\n",
        "    merges[max_pair]  = 256+i\n",
        "\n",
        "  return tokens, merges"
      ],
      "metadata": {
        "id": "-tHc0aRzU4gV"
      },
      "execution_count": 28,
      "outputs": []
    },
    {
      "cell_type": "code",
      "source": [
        "tokens = list(text.encode(\"utf-8\"))\n",
        "\n",
        "copy_tokens = tokens.copy()\n",
        "\n",
        "\n",
        "vocab_size = 300\n",
        "num_merges = vocab_size - 256\n",
        "\n",
        "new_tokens,merges = bpe(copy_tokens,num_merges)\n",
        "\n",
        "len(tokens),len(new_tokens)"
      ],
      "metadata": {
        "colab": {
          "base_uri": "https://localhost:8080/"
        },
        "id": "N_wBkcJREAnV",
        "outputId": "7e12586c-815e-4787-f8d9-1b81775864cb"
      },
      "execution_count": 29,
      "outputs": [
        {
          "output_type": "execute_result",
          "data": {
            "text/plain": [
              "(5965, 4081)"
            ]
          },
          "metadata": {},
          "execution_count": 29
        }
      ]
    },
    {
      "cell_type": "code",
      "source": [
        "for k,v in merges.items():\n",
        "  print(f\"{k}    {v}\")"
      ],
      "metadata": {
        "colab": {
          "base_uri": "https://localhost:8080/"
        },
        "id": "iRVdtcM4E-P3",
        "outputId": "b717afd2-58d0-4a5e-cb9c-ca77ead56b56"
      },
      "execution_count": 30,
      "outputs": [
        {
          "output_type": "stream",
          "name": "stdout",
          "text": [
            "(44, 32)    256\n",
            "(101, 32)    257\n",
            "(105, 110)    258\n",
            "(115, 32)    259\n",
            "(116, 104)    260\n",
            "(101, 114)    261\n",
            "(100, 32)    262\n",
            "(46, 32)    263\n",
            "(114, 101)    264\n",
            "(97, 110)    265\n",
            "(258, 103)    266\n",
            "(101, 110)    267\n",
            "(111, 110)    268\n",
            "(115, 116)    269\n",
            "(260, 257)    270\n",
            "(114, 111)    271\n",
            "(102, 111)    272\n",
            "(121, 32)    273\n",
            "(97, 116)    274\n",
            "(240, 159)    275\n",
            "(263, 84)    276\n",
            "(99, 111)    277\n",
            "(104, 257)    278\n",
            "(32, 270)    279\n",
            "(97, 114)    280\n",
            "(121, 256)    281\n",
            "(276, 278)    282\n",
            "(116, 32)    283\n",
            "(105, 268)    284\n",
            "(97, 108)    285\n",
            "(99, 104)    286\n",
            "(101, 262)    287\n",
            "(265, 262)    288\n",
            "(32, 119)    289\n",
            "(266, 32)    290\n",
            "(117, 110)    291\n",
            "(108, 101)    292\n",
            "(101, 115)    293\n",
            "(32, 115)    294\n",
            "(111, 114)    295\n",
            "(116, 111)    296\n",
            "(117, 114)    297\n",
            "(101, 256)    298\n",
            "(58, 32)    299\n"
          ]
        }
      ]
    },
    {
      "cell_type": "code",
      "source": [
        "print(f'ratio: {len(tokens)/len(new_tokens):.2f}')"
      ],
      "metadata": {
        "colab": {
          "base_uri": "https://localhost:8080/"
        },
        "id": "L3RESCxeGlCE",
        "outputId": "30a45252-7a6e-4766-c664-cb898f7dc01f"
      },
      "execution_count": 31,
      "outputs": [
        {
          "output_type": "stream",
          "name": "stdout",
          "text": [
            "ratio: 1.46\n"
          ]
        }
      ]
    },
    {
      "cell_type": "markdown",
      "source": [
        "### Decoding"
      ],
      "metadata": {
        "id": "rLTplebiVXu5"
      }
    },
    {
      "cell_type": "code",
      "source": [
        "itos = {v:k for k,v in merges.items()}\n",
        "\n",
        "\n",
        "\n",
        "\n",
        "def decode(tokens):\n",
        "\n",
        "  out = []\n",
        "\n",
        "#----------------------------------\n",
        "  def finder(idx):\n",
        "    if idx not in merges.values():\n",
        "      return idx\n",
        "\n",
        "    p1,p2 = itos[idx]\n",
        "\n",
        "    val1 = finder(p1)\n",
        "    if val1 is not None:\n",
        "      out.append(val1)\n",
        "\n",
        "    val2 = finder(p2)\n",
        "    if val2 is not None:\n",
        "      out.append(val2)\n",
        "\n",
        "    return\n",
        "#----------------------------------\n",
        "\n",
        "  for i in tokens:\n",
        "    if i in merges.values():\n",
        "      finder(i)\n",
        "\n",
        "    else:\n",
        "      out.append(i)\n",
        "\n",
        "\n",
        "  return ''.join([chr(i) for i in out])\n"
      ],
      "metadata": {
        "id": "uGRFOrJQHStO"
      },
      "execution_count": 32,
      "outputs": []
    },
    {
      "cell_type": "code",
      "source": [
        "print(decode([128]))"
      ],
      "metadata": {
        "id": "f_HQZX3rWu4Z",
        "colab": {
          "base_uri": "https://localhost:8080/"
        },
        "outputId": "d808e4cd-6697-4d44-d494-2279271a260b"
      },
      "execution_count": 33,
      "outputs": [
        {
          "output_type": "stream",
          "name": "stdout",
          "text": [
            "\n"
          ]
        }
      ]
    },
    {
      "cell_type": "markdown",
      "source": [
        "### Encoding"
      ],
      "metadata": {
        "id": "fK77ngEDBcuH"
      }
    },
    {
      "cell_type": "code",
      "source": [
        "def encode(text):\n",
        "\n",
        "  tokens = list(text.encode('utf-8'))\n",
        "\n",
        "  out = tokens\n",
        "\n",
        "\n",
        "  while True:\n",
        "    i = 0\n",
        "    temp = []\n",
        "\n",
        "    for p1,p2 in zip(out,out[1:]):\n",
        "      if (p1,p2) in merges.keys():\n",
        "        temp.append(merges[(p1,p2)])\n",
        "        i+=1\n",
        "      else:\n",
        "        temp.append(p1)\n",
        "\n",
        "\n",
        "\n",
        "    if (out[-2],out[-1]) not in merges.keys():\n",
        "      temp.append(out[-1])\n",
        "\n",
        "    #print(out)\n",
        "    out = temp\n",
        "\n",
        "\n",
        "    if i==0:\n",
        "      return out"
      ],
      "metadata": {
        "id": "sHuwF5ab12_z"
      },
      "execution_count": 34,
      "outputs": []
    },
    {
      "cell_type": "code",
      "source": [
        "print(encode(\"derivatives: f'(x) = lim(h→0) [f(x+h) - f(x)]/h. Technology advances rapidly 🚀: artificial , vary 😊😢😠😴😍🤯: happiness \"))"
      ],
      "metadata": {
        "colab": {
          "base_uri": "https://localhost:8080/"
        },
        "id": "AkFn7nQlXNvf",
        "outputId": "06517e2a-d247-41a5-a6cc-f4d764fde618"
      },
      "execution_count": 35,
      "outputs": [
        {
          "output_type": "stream",
          "name": "stdout",
          "text": [
            "[100, 261, 114, 105, 118, 274, 116, 105, 118, 293, 115, 299, 32, 102, 39, 40, 120, 41, 32, 61, 32, 108, 105, 109, 40, 104, 226, 134, 146, 48, 41, 32, 91, 102, 40, 120, 43, 104, 41, 32, 45, 32, 102, 40, 120, 41, 93, 47, 104, 263, 32, 84, 101, 286, 104, 110, 111, 108, 111, 103, 273, 32, 97, 100, 118, 265, 110, 99, 293, 259, 32, 114, 97, 112, 105, 100, 108, 273, 32, 275, 159, 154, 128, 299, 32, 280, 114, 116, 105, 102, 105, 99, 105, 285, 108, 32, 256, 32, 118, 280, 114, 273, 32, 275, 159, 152, 138, 275, 159, 152, 162, 275, 159, 152, 160, 275, 159, 152, 180, 275, 159, 152, 141, 275, 159, 164, 175, 299, 32, 104, 97, 112, 112, 258, 110, 293, 115, 259]\n"
          ]
        }
      ]
    },
    {
      "cell_type": "markdown",
      "source": [
        "### OpenAi gpt 2 - text processing before encoding"
      ],
      "metadata": {
        "id": "dzcrK2SwInqg"
      }
    },
    {
      "cell_type": "code",
      "source": [
        "pat = re.compile(r\"\"\"'s|'t|'re|'ve|'m|'ll|'d| ?\\p{L}+| ?\\p{N}+| ?[^\\s\\p{L}\\p{N}]+|\\s+(?!\\S)|\\s+\"\"\")"
      ],
      "metadata": {
        "id": "CybQAJruYAYR"
      },
      "execution_count": 36,
      "outputs": []
    },
    {
      "cell_type": "code",
      "source": [
        "print(re.findall(pat,\"my name is samitha sahan, I'm interested in AI\"))"
      ],
      "metadata": {
        "colab": {
          "base_uri": "https://localhost:8080/"
        },
        "id": "HPDOMn-jJPnD",
        "outputId": "b34ef9ea-7301-4778-fcff-7bd9307f517d"
      },
      "execution_count": 38,
      "outputs": [
        {
          "output_type": "stream",
          "name": "stdout",
          "text": [
            "['my', ' name', ' is', ' samitha', ' sahan', ',', ' I', \"'m\", ' interested', ' in', ' AI']\n"
          ]
        }
      ]
    },
    {
      "cell_type": "code",
      "source": [],
      "metadata": {
        "id": "Ke5aQyzUKLHw"
      },
      "execution_count": null,
      "outputs": []
    }
  ]
}